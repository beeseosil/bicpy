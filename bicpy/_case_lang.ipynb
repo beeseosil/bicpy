{
 "cells": [
  {
   "cell_type": "code",
   "execution_count": 117,
   "metadata": {},
   "outputs": [],
   "source": [
    "import os\n",
    "import kagglehub\n",
    "import numpy as np\n",
    "import pandas as pd\n",
    "import matplotlib.pyplot as plt\n",
    "import seaborn as sns\n",
    "\n",
    "from scipy.stats import yeojohnson\n"
   ]
  },
  {
   "cell_type": "code",
   "execution_count": 71,
   "metadata": {},
   "outputs": [],
   "source": [
    "sns.set_theme(style='whitegrid', font_scale=.6, palette='Dark2', font='Monospace')\n",
    "\n",
    "asthetic_constraint=dict(\n",
    "  alpha=.9\n",
    ")"
   ]
  },
  {
   "cell_type": "code",
   "execution_count": 54,
   "metadata": {},
   "outputs": [
    {
     "name": "stdout",
     "output_type": "stream",
     "text": [
      "<class 'pandas.core.frame.DataFrame'>\n",
      "RangeIndex: 641303 entries, 0 to 641302\n",
      "Data columns (total 11 columns):\n",
      " #   Column                Non-Null Count   Dtype \n",
      "---  ------                --------------   ----- \n",
      " 0   reviewId              641303 non-null  object\n",
      " 1   userName              641303 non-null  object\n",
      " 2   userImage             641303 non-null  object\n",
      " 3   content               639970 non-null  object\n",
      " 4   score                 641303 non-null  int64 \n",
      " 5   thumbsUpCount         641303 non-null  int64 \n",
      " 6   reviewCreatedVersion  509929 non-null  object\n",
      " 7   at                    641303 non-null  object\n",
      " 8   replyContent          59332 non-null   object\n",
      " 9   repliedAt             59332 non-null   object\n",
      " 10  appVersion            509929 non-null  object\n",
      "dtypes: int64(2), object(9)\n",
      "memory usage: 53.8+ MB\n"
     ]
    }
   ],
   "source": [
    "path = kagglehub.dataset_download(\"shivkumarganesh/tinder-google-play-store-review\")\n",
    "\n",
    "os.chdir(path)\n",
    "\n",
    "data=pd.read_csv(\n",
    "  os.path.join(path, os.listdir()[0])\n",
    ")\n",
    "\n",
    "data.info(1)"
   ]
  },
  {
   "cell_type": "code",
   "execution_count": 55,
   "metadata": {},
   "outputs": [
    {
     "data": {
      "text/plain": [
       "True"
      ]
     },
     "execution_count": 55,
     "metadata": {},
     "output_type": "execute_result"
    }
   ],
   "source": [
    "data.index.size == data.reviewId.nunique()"
   ]
  },
  {
   "cell_type": "code",
   "execution_count": 56,
   "metadata": {},
   "outputs": [],
   "source": [
    "data=data.iloc[:,[0,3,4,5,7,10]].copy()"
   ]
  },
  {
   "cell_type": "code",
   "execution_count": 57,
   "metadata": {},
   "outputs": [
    {
     "data": {
      "text/html": [
       "<div>\n",
       "<style scoped>\n",
       "    .dataframe tbody tr th:only-of-type {\n",
       "        vertical-align: middle;\n",
       "    }\n",
       "\n",
       "    .dataframe tbody tr th {\n",
       "        vertical-align: top;\n",
       "    }\n",
       "\n",
       "    .dataframe thead th {\n",
       "        text-align: right;\n",
       "    }\n",
       "</style>\n",
       "<table border=\"1\" class=\"dataframe\">\n",
       "  <thead>\n",
       "    <tr style=\"text-align: right;\">\n",
       "      <th></th>\n",
       "      <th>reviewId</th>\n",
       "      <th>content</th>\n",
       "      <th>score</th>\n",
       "      <th>thumbsUpCount</th>\n",
       "      <th>at</th>\n",
       "      <th>appVersion</th>\n",
       "    </tr>\n",
       "  </thead>\n",
       "  <tbody>\n",
       "    <tr>\n",
       "      <th>375690</th>\n",
       "      <td>fc4195a7-2dc1-4d97-a9ea-3f7cee52f1f0</td>\n",
       "      <td>good</td>\n",
       "      <td>5</td>\n",
       "      <td>0</td>\n",
       "      <td>2018-09-27 03:48:40</td>\n",
       "      <td>NaN</td>\n",
       "    </tr>\n",
       "    <tr>\n",
       "      <th>214454</th>\n",
       "      <td>a516c543-fa42-4d5c-aa41-1e2afb33fd3d</td>\n",
       "      <td>The app isn't bad thou compared to other's.. I...</td>\n",
       "      <td>4</td>\n",
       "      <td>0</td>\n",
       "      <td>2020-11-02 13:50:05</td>\n",
       "      <td>11.27.0</td>\n",
       "    </tr>\n",
       "    <tr>\n",
       "      <th>406328</th>\n",
       "      <td>94aec1f8-1add-4a18-a427-28107a5c78f8</td>\n",
       "      <td>nice app</td>\n",
       "      <td>5</td>\n",
       "      <td>0</td>\n",
       "      <td>2018-03-25 15:23:04</td>\n",
       "      <td>NaN</td>\n",
       "    </tr>\n",
       "    <tr>\n",
       "      <th>361799</th>\n",
       "      <td>c728af66-4ca0-4edd-809f-be43d72844c5</td>\n",
       "      <td>Cool 😎</td>\n",
       "      <td>5</td>\n",
       "      <td>0</td>\n",
       "      <td>2018-11-17 18:49:17</td>\n",
       "      <td>10.1.0</td>\n",
       "    </tr>\n",
       "    <tr>\n",
       "      <th>33998</th>\n",
       "      <td>aa7509c1-63be-42f9-a2a0-ea580ed48429</td>\n",
       "      <td>Worthless subscription, no one matched after h...</td>\n",
       "      <td>1</td>\n",
       "      <td>0</td>\n",
       "      <td>2024-03-24 16:27:03</td>\n",
       "      <td>15.4.0</td>\n",
       "    </tr>\n",
       "  </tbody>\n",
       "</table>\n",
       "</div>"
      ],
      "text/plain": [
       "                                    reviewId  \\\n",
       "375690  fc4195a7-2dc1-4d97-a9ea-3f7cee52f1f0   \n",
       "214454  a516c543-fa42-4d5c-aa41-1e2afb33fd3d   \n",
       "406328  94aec1f8-1add-4a18-a427-28107a5c78f8   \n",
       "361799  c728af66-4ca0-4edd-809f-be43d72844c5   \n",
       "33998   aa7509c1-63be-42f9-a2a0-ea580ed48429   \n",
       "\n",
       "                                                  content  score  \\\n",
       "375690                                               good      5   \n",
       "214454  The app isn't bad thou compared to other's.. I...      4   \n",
       "406328                                           nice app      5   \n",
       "361799                                             Cool 😎      5   \n",
       "33998   Worthless subscription, no one matched after h...      1   \n",
       "\n",
       "        thumbsUpCount                   at appVersion  \n",
       "375690              0  2018-09-27 03:48:40        NaN  \n",
       "214454              0  2020-11-02 13:50:05    11.27.0  \n",
       "406328              0  2018-03-25 15:23:04        NaN  \n",
       "361799              0  2018-11-17 18:49:17     10.1.0  \n",
       "33998               0  2024-03-24 16:27:03     15.4.0  "
      ]
     },
     "execution_count": 57,
     "metadata": {},
     "output_type": "execute_result"
    }
   ],
   "source": [
    "data.sample(5)"
   ]
  },
  {
   "cell_type": "code",
   "execution_count": 58,
   "metadata": {},
   "outputs": [
    {
     "data": {
      "text/html": [
       "<div>\n",
       "<style scoped>\n",
       "    .dataframe tbody tr th:only-of-type {\n",
       "        vertical-align: middle;\n",
       "    }\n",
       "\n",
       "    .dataframe tbody tr th {\n",
       "        vertical-align: top;\n",
       "    }\n",
       "\n",
       "    .dataframe thead th {\n",
       "        text-align: right;\n",
       "    }\n",
       "</style>\n",
       "<table border=\"1\" class=\"dataframe\">\n",
       "  <thead>\n",
       "    <tr style=\"text-align: right;\">\n",
       "      <th></th>\n",
       "      <th>content</th>\n",
       "      <th>score</th>\n",
       "      <th>thumbsUpCount</th>\n",
       "      <th>at</th>\n",
       "      <th>appVersion</th>\n",
       "    </tr>\n",
       "  </thead>\n",
       "  <tbody>\n",
       "    <tr>\n",
       "      <th>13228</th>\n",
       "      <td>My account is broken bought 1 month then after...</td>\n",
       "      <td>1</td>\n",
       "      <td>0</td>\n",
       "      <td>2024-09-15 05:21:32</td>\n",
       "      <td>15.16.0</td>\n",
       "    </tr>\n",
       "    <tr>\n",
       "      <th>181796</th>\n",
       "      <td>Banned for absolutely no reason.</td>\n",
       "      <td>1</td>\n",
       "      <td>0</td>\n",
       "      <td>2021-05-15 01:58:40</td>\n",
       "      <td>NaN</td>\n",
       "    </tr>\n",
       "    <tr>\n",
       "      <th>124010</th>\n",
       "      <td>Fake profiles all over. Nobody to talk to for ...</td>\n",
       "      <td>1</td>\n",
       "      <td>1</td>\n",
       "      <td>2022-06-18 21:53:11</td>\n",
       "      <td>13.10.1</td>\n",
       "    </tr>\n",
       "  </tbody>\n",
       "</table>\n",
       "</div>"
      ],
      "text/plain": [
       "                                                  content  score  \\\n",
       "13228   My account is broken bought 1 month then after...      1   \n",
       "181796                   Banned for absolutely no reason.      1   \n",
       "124010  Fake profiles all over. Nobody to talk to for ...      1   \n",
       "\n",
       "        thumbsUpCount                   at appVersion  \n",
       "13228               0  2024-09-15 05:21:32    15.16.0  \n",
       "181796              0  2021-05-15 01:58:40        NaN  \n",
       "124010              1  2022-06-18 21:53:11    13.10.1  "
      ]
     },
     "execution_count": 58,
     "metadata": {},
     "output_type": "execute_result"
    }
   ],
   "source": [
    "data=data.drop('reviewId', axis=1)\n",
    "data.sample(3)"
   ]
  },
  {
   "cell_type": "code",
   "execution_count": 59,
   "metadata": {},
   "outputs": [
    {
     "data": {
      "text/html": [
       "<div>\n",
       "<style scoped>\n",
       "    .dataframe tbody tr th:only-of-type {\n",
       "        vertical-align: middle;\n",
       "    }\n",
       "\n",
       "    .dataframe tbody tr th {\n",
       "        vertical-align: top;\n",
       "    }\n",
       "\n",
       "    .dataframe thead th {\n",
       "        text-align: right;\n",
       "    }\n",
       "</style>\n",
       "<table border=\"1\" class=\"dataframe\">\n",
       "  <thead>\n",
       "    <tr style=\"text-align: right;\">\n",
       "      <th></th>\n",
       "      <th>thumb</th>\n",
       "      <th>star</th>\n",
       "      <th>review</th>\n",
       "      <th>ver</th>\n",
       "    </tr>\n",
       "  </thead>\n",
       "  <tbody>\n",
       "    <tr>\n",
       "      <th>52997</th>\n",
       "      <td>0</td>\n",
       "      <td>5</td>\n",
       "      <td>waaaooo good app 👌 tinder well</td>\n",
       "      <td>14.20.0</td>\n",
       "    </tr>\n",
       "    <tr>\n",
       "      <th>96825</th>\n",
       "      <td>0</td>\n",
       "      <td>2</td>\n",
       "      <td>Solo hay NPCs</td>\n",
       "      <td>13.22.0</td>\n",
       "    </tr>\n",
       "    <tr>\n",
       "      <th>334135</th>\n",
       "      <td>0</td>\n",
       "      <td>5</td>\n",
       "      <td>super</td>\n",
       "      <td>NaN</td>\n",
       "    </tr>\n",
       "  </tbody>\n",
       "</table>\n",
       "</div>"
      ],
      "text/plain": [
       "        thumb  star                          review      ver\n",
       "52997       0     5  waaaooo good app 👌 tinder well  14.20.0\n",
       "96825       0     2                   Solo hay NPCs  13.22.0\n",
       "334135      0     5                           super      NaN"
      ]
     },
     "execution_count": 59,
     "metadata": {},
     "output_type": "execute_result"
    }
   ],
   "source": [
    "data_processed_some=pd.DataFrame(dict(\n",
    "  thumb=data.thumbsUpCount,\n",
    "  star=data.score,\n",
    "  review=data.content,\n",
    "  ver=data.appVersion\n",
    "))\n",
    "data_processed_some.sample(3)"
   ]
  },
  {
   "cell_type": "code",
   "execution_count": 60,
   "metadata": {},
   "outputs": [
    {
     "data": {
      "text/html": [
       "<div>\n",
       "<style scoped>\n",
       "    .dataframe tbody tr th:only-of-type {\n",
       "        vertical-align: middle;\n",
       "    }\n",
       "\n",
       "    .dataframe tbody tr th {\n",
       "        vertical-align: top;\n",
       "    }\n",
       "\n",
       "    .dataframe thead th {\n",
       "        text-align: right;\n",
       "    }\n",
       "</style>\n",
       "<table border=\"1\" class=\"dataframe\">\n",
       "  <thead>\n",
       "    <tr style=\"text-align: right;\">\n",
       "      <th></th>\n",
       "      <th>at</th>\n",
       "    </tr>\n",
       "  </thead>\n",
       "  <tbody>\n",
       "    <tr>\n",
       "      <th>391292</th>\n",
       "      <td>2018-06-29 12:00:00</td>\n",
       "    </tr>\n",
       "    <tr>\n",
       "      <th>559034</th>\n",
       "      <td>2015-09-03 21:00:00</td>\n",
       "    </tr>\n",
       "    <tr>\n",
       "      <th>107444</th>\n",
       "      <td>2022-10-12 06:00:00</td>\n",
       "    </tr>\n",
       "  </tbody>\n",
       "</table>\n",
       "</div>"
      ],
      "text/plain": [
       "                        at\n",
       "391292 2018-06-29 12:00:00\n",
       "559034 2015-09-03 21:00:00\n",
       "107444 2022-10-12 06:00:00"
      ]
     },
     "execution_count": 60,
     "metadata": {},
     "output_type": "execute_result"
    }
   ],
   "source": [
    "_at=pd.to_datetime(data['at']).round('3h')\n",
    "_at.to_frame().sample(3)"
   ]
  },
  {
   "cell_type": "code",
   "execution_count": 61,
   "metadata": {},
   "outputs": [
    {
     "data": {
      "text/html": [
       "<div>\n",
       "<style scoped>\n",
       "    .dataframe tbody tr th:only-of-type {\n",
       "        vertical-align: middle;\n",
       "    }\n",
       "\n",
       "    .dataframe tbody tr th {\n",
       "        vertical-align: top;\n",
       "    }\n",
       "\n",
       "    .dataframe thead th {\n",
       "        text-align: right;\n",
       "    }\n",
       "</style>\n",
       "<table border=\"1\" class=\"dataframe\">\n",
       "  <thead>\n",
       "    <tr style=\"text-align: right;\">\n",
       "      <th></th>\n",
       "      <th>at</th>\n",
       "      <th>atYear</th>\n",
       "      <th>atMonth</th>\n",
       "      <th>atHourInterval</th>\n",
       "      <th>atDay</th>\n",
       "    </tr>\n",
       "  </thead>\n",
       "  <tbody>\n",
       "    <tr>\n",
       "      <th>10613</th>\n",
       "      <td>2024-10-07 12:00:00</td>\n",
       "      <td>2024</td>\n",
       "      <td>10</td>\n",
       "      <td>12</td>\n",
       "      <td>0</td>\n",
       "    </tr>\n",
       "    <tr>\n",
       "      <th>511791</th>\n",
       "      <td>2016-06-16 18:00:00</td>\n",
       "      <td>2016</td>\n",
       "      <td>6</td>\n",
       "      <td>18</td>\n",
       "      <td>3</td>\n",
       "    </tr>\n",
       "    <tr>\n",
       "      <th>96587</th>\n",
       "      <td>2022-12-12 12:00:00</td>\n",
       "      <td>2022</td>\n",
       "      <td>12</td>\n",
       "      <td>12</td>\n",
       "      <td>0</td>\n",
       "    </tr>\n",
       "  </tbody>\n",
       "</table>\n",
       "</div>"
      ],
      "text/plain": [
       "                        at  atYear  atMonth  atHourInterval  atDay\n",
       "10613  2024-10-07 12:00:00    2024       10              12      0\n",
       "511791 2016-06-16 18:00:00    2016        6              18      3\n",
       "96587  2022-12-12 12:00:00    2022       12              12      0"
      ]
     },
     "execution_count": 61,
     "metadata": {},
     "output_type": "execute_result"
    }
   ],
   "source": [
    "data_dt=pd.DataFrame(dict(\n",
    "  at=_at,\n",
    "  atYear=_at.dt.year,\n",
    "  atMonth=_at.dt.month,\n",
    "  atHourInterval=_at.dt.hour,\n",
    "  atDay=_at.dt.dayofweek\n",
    "))\n",
    "data_dt.sample(3)"
   ]
  },
  {
   "cell_type": "code",
   "execution_count": 62,
   "metadata": {},
   "outputs": [
    {
     "data": {
      "text/html": [
       "<div>\n",
       "<style scoped>\n",
       "    .dataframe tbody tr th:only-of-type {\n",
       "        vertical-align: middle;\n",
       "    }\n",
       "\n",
       "    .dataframe tbody tr th {\n",
       "        vertical-align: top;\n",
       "    }\n",
       "\n",
       "    .dataframe thead th {\n",
       "        text-align: right;\n",
       "    }\n",
       "</style>\n",
       "<table border=\"1\" class=\"dataframe\">\n",
       "  <thead>\n",
       "    <tr style=\"text-align: right;\">\n",
       "      <th></th>\n",
       "      <th>thumb</th>\n",
       "      <th>star</th>\n",
       "      <th>review</th>\n",
       "      <th>ver</th>\n",
       "      <th>at</th>\n",
       "      <th>atYear</th>\n",
       "      <th>atMonth</th>\n",
       "      <th>atHourInterval</th>\n",
       "      <th>atDay</th>\n",
       "    </tr>\n",
       "  </thead>\n",
       "  <tbody>\n",
       "    <tr>\n",
       "      <th>275900</th>\n",
       "      <td>0</td>\n",
       "      <td>5</td>\n",
       "      <td>Good</td>\n",
       "      <td>11.3.0</td>\n",
       "      <td>2019-11-22 12:00:00</td>\n",
       "      <td>2019</td>\n",
       "      <td>11</td>\n",
       "      <td>12</td>\n",
       "      <td>4</td>\n",
       "    </tr>\n",
       "    <tr>\n",
       "      <th>274478</th>\n",
       "      <td>0</td>\n",
       "      <td>5</td>\n",
       "      <td>Dude its tinder</td>\n",
       "      <td>NaN</td>\n",
       "      <td>2019-11-30 18:00:00</td>\n",
       "      <td>2019</td>\n",
       "      <td>11</td>\n",
       "      <td>18</td>\n",
       "      <td>5</td>\n",
       "    </tr>\n",
       "    <tr>\n",
       "      <th>487703</th>\n",
       "      <td>1</td>\n",
       "      <td>1</td>\n",
       "      <td>Please fix why the matches are there one secon...</td>\n",
       "      <td>6.4.1</td>\n",
       "      <td>2016-11-16 06:00:00</td>\n",
       "      <td>2016</td>\n",
       "      <td>11</td>\n",
       "      <td>6</td>\n",
       "      <td>2</td>\n",
       "    </tr>\n",
       "  </tbody>\n",
       "</table>\n",
       "</div>"
      ],
      "text/plain": [
       "        thumb  star                                             review  \\\n",
       "275900      0     5                                               Good   \n",
       "274478      0     5                                    Dude its tinder   \n",
       "487703      1     1  Please fix why the matches are there one secon...   \n",
       "\n",
       "           ver                  at  atYear  atMonth  atHourInterval  atDay  \n",
       "275900  11.3.0 2019-11-22 12:00:00    2019       11              12      4  \n",
       "274478     NaN 2019-11-30 18:00:00    2019       11              18      5  \n",
       "487703   6.4.1 2016-11-16 06:00:00    2016       11               6      2  "
      ]
     },
     "execution_count": 62,
     "metadata": {},
     "output_type": "execute_result"
    }
   ],
   "source": [
    "data_processed=pd.concat([\n",
    "  data_processed_some,\n",
    "  data_dt\n",
    "],axis=1).dropna(subset='review').sort_values('atYear')\n",
    "data_processed.sample(3)"
   ]
  },
  {
   "cell_type": "code",
   "execution_count": 63,
   "metadata": {},
   "outputs": [
    {
     "data": {
      "text/plain": [
       "thumb                  0\n",
       "star                   0\n",
       "review                 0\n",
       "ver               131299\n",
       "at                     0\n",
       "atYear                 0\n",
       "atMonth                0\n",
       "atHourInterval         0\n",
       "atDay                  0\n",
       "dtype: int64"
      ]
     },
     "execution_count": 63,
     "metadata": {},
     "output_type": "execute_result"
    }
   ],
   "source": [
    "data_processed.isna().sum()"
   ]
  },
  {
   "cell_type": "code",
   "execution_count": 64,
   "metadata": {},
   "outputs": [
    {
     "data": {
      "text/plain": [
       "at\n",
       "2013-11-06 18:00:00    NaN\n",
       "2013-11-05 15:00:00    NaN\n",
       "2013-11-05 15:00:00    NaN\n",
       "2013-11-07 15:00:00    NaN\n",
       "2013-11-07 00:00:00    NaN\n",
       "                      ... \n",
       "2025-01-04 12:00:00    NaN\n",
       "2025-01-04 00:00:00    NaN\n",
       "2025-01-04 00:00:00    NaN\n",
       "2025-01-04 03:00:00    NaN\n",
       "2025-01-04 03:00:00    NaN\n",
       "Name: ver, Length: 131299, dtype: object"
      ]
     },
     "execution_count": 64,
     "metadata": {},
     "output_type": "execute_result"
    }
   ],
   "source": [
    "_ver_interp=pd.DataFrame(\n",
    "  dict(\n",
    "    ind=data_processed.index,\n",
    "    ver=data_processed.ver.to_list()\n",
    "  ),\n",
    "  index=data_processed['at']\n",
    ")\n",
    "_ver_interp.ver[data_processed.ver.isna().to_list()]"
   ]
  },
  {
   "cell_type": "code",
   "execution_count": 65,
   "metadata": {},
   "outputs": [
    {
     "data": {
      "text/html": [
       "<div>\n",
       "<style scoped>\n",
       "    .dataframe tbody tr th:only-of-type {\n",
       "        vertical-align: middle;\n",
       "    }\n",
       "\n",
       "    .dataframe tbody tr th {\n",
       "        vertical-align: top;\n",
       "    }\n",
       "\n",
       "    .dataframe thead th {\n",
       "        text-align: right;\n",
       "    }\n",
       "</style>\n",
       "<table border=\"1\" class=\"dataframe\">\n",
       "  <thead>\n",
       "    <tr style=\"text-align: right;\">\n",
       "      <th></th>\n",
       "      <th>ind</th>\n",
       "      <th>ver</th>\n",
       "    </tr>\n",
       "    <tr>\n",
       "      <th>at</th>\n",
       "      <th></th>\n",
       "      <th></th>\n",
       "    </tr>\n",
       "  </thead>\n",
       "  <tbody>\n",
       "    <tr>\n",
       "      <th>2013-11-06 18:00:00</th>\n",
       "      <td>635911</td>\n",
       "      <td>1.5.6</td>\n",
       "    </tr>\n",
       "    <tr>\n",
       "      <th>2013-11-05 15:00:00</th>\n",
       "      <td>636008</td>\n",
       "      <td>1.5.6</td>\n",
       "    </tr>\n",
       "    <tr>\n",
       "      <th>2013-11-05 15:00:00</th>\n",
       "      <td>635999</td>\n",
       "      <td>1.5.6</td>\n",
       "    </tr>\n",
       "    <tr>\n",
       "      <th>2013-11-07 15:00:00</th>\n",
       "      <td>635832</td>\n",
       "      <td>1.5.6</td>\n",
       "    </tr>\n",
       "    <tr>\n",
       "      <th>2013-11-07 00:00:00</th>\n",
       "      <td>635884</td>\n",
       "      <td>1.5.6</td>\n",
       "    </tr>\n",
       "    <tr>\n",
       "      <th>...</th>\n",
       "      <td>...</td>\n",
       "      <td>...</td>\n",
       "    </tr>\n",
       "    <tr>\n",
       "      <th>2025-01-04 12:00:00</th>\n",
       "      <td>662</td>\n",
       "      <td>15.23.0</td>\n",
       "    </tr>\n",
       "    <tr>\n",
       "      <th>2025-01-04 00:00:00</th>\n",
       "      <td>720</td>\n",
       "      <td>15.23.0</td>\n",
       "    </tr>\n",
       "    <tr>\n",
       "      <th>2025-01-04 00:00:00</th>\n",
       "      <td>719</td>\n",
       "      <td>15.23.0</td>\n",
       "    </tr>\n",
       "    <tr>\n",
       "      <th>2025-01-04 03:00:00</th>\n",
       "      <td>705</td>\n",
       "      <td>15.23.0</td>\n",
       "    </tr>\n",
       "    <tr>\n",
       "      <th>2025-01-04 03:00:00</th>\n",
       "      <td>702</td>\n",
       "      <td>15.23.0</td>\n",
       "    </tr>\n",
       "  </tbody>\n",
       "</table>\n",
       "<p>131299 rows × 2 columns</p>\n",
       "</div>"
      ],
      "text/plain": [
       "                        ind      ver\n",
       "at                                  \n",
       "2013-11-06 18:00:00  635911    1.5.6\n",
       "2013-11-05 15:00:00  636008    1.5.6\n",
       "2013-11-05 15:00:00  635999    1.5.6\n",
       "2013-11-07 15:00:00  635832    1.5.6\n",
       "2013-11-07 00:00:00  635884    1.5.6\n",
       "...                     ...      ...\n",
       "2025-01-04 12:00:00     662  15.23.0\n",
       "2025-01-04 00:00:00     720  15.23.0\n",
       "2025-01-04 00:00:00     719  15.23.0\n",
       "2025-01-04 03:00:00     705  15.23.0\n",
       "2025-01-04 03:00:00     702  15.23.0\n",
       "\n",
       "[131299 rows x 2 columns]"
      ]
     },
     "execution_count": 65,
     "metadata": {},
     "output_type": "execute_result"
    }
   ],
   "source": [
    "_ver_interp.interpolate('pad')[data_processed.ver.isna().to_list()]"
   ]
  },
  {
   "cell_type": "code",
   "execution_count": 66,
   "metadata": {},
   "outputs": [
    {
     "data": {
      "text/plain": [
       "0"
      ]
     },
     "execution_count": 66,
     "metadata": {},
     "output_type": "execute_result"
    }
   ],
   "source": [
    "_ver_interp=_ver_interp.interpolate('pad')\n",
    "data_processed.loc[:, 'ver']=_ver_interp.ver.to_list()\n",
    "data_processed.ver.isna().sum()"
   ]
  },
  {
   "cell_type": "code",
   "execution_count": 67,
   "metadata": {},
   "outputs": [
    {
     "data": {
      "image/png": "[encoded data removed]",
      "text/plain": [
       "<Figure size 600x600 with 1 Axes>"
      ]
     },
     "metadata": {},
     "output_type": "display_data"
    }
   ],
   "source": [
    "plt.subplots(figsize=(6,6))\n",
    "sns.histplot(data_processed, x=data_processed.atYear.astype('str'), y=data_processed.atMonth.astype('str'), stat='count', **asthetic_constraint)\n",
    "sns.despine(left=True,right=True,top=True,bottom=True)"
   ]
  },
  {
   "cell_type": "code",
   "execution_count": null,
   "metadata": {},
   "outputs": [
    {
     "data": {
      "text/plain": [
       "<Axes: xlabel='count', ylabel='atYear'>"
      ]
     },
     "execution_count": 110,
     "metadata": {},
     "output_type": "execute_result"
    },
    {
     "data": {
      "image/png": "[encoded data removed]",
      "text/plain": [
       "<Figure size 1200x300 with 1 Axes>"
      ]
     },
     "metadata": {},
     "output_type": "display_data"
    }
   ],
   "source": [
    "plt.subplots(figsize=(12,3))\n",
    "sns.countplot(data_processed, y='atYear', hue='star',\n",
    "  dodge=True, width=1.)"
   ]
  },
  {
   "cell_type": "code",
   "execution_count": 81,
   "metadata": {},
   "outputs": [
    {
     "data": {
      "text/html": [
       "<div>\n",
       "<style scoped>\n",
       "    .dataframe tbody tr th:only-of-type {\n",
       "        vertical-align: middle;\n",
       "    }\n",
       "\n",
       "    .dataframe tbody tr th {\n",
       "        vertical-align: top;\n",
       "    }\n",
       "\n",
       "    .dataframe thead th {\n",
       "        text-align: right;\n",
       "    }\n",
       "</style>\n",
       "<table border=\"1\" class=\"dataframe\">\n",
       "  <thead>\n",
       "    <tr style=\"text-align: right;\">\n",
       "      <th></th>\n",
       "      <th>thumb</th>\n",
       "      <th>star</th>\n",
       "      <th>review</th>\n",
       "      <th>ver</th>\n",
       "      <th>at</th>\n",
       "      <th>atYear</th>\n",
       "      <th>atMonth</th>\n",
       "      <th>atHourInterval</th>\n",
       "      <th>atDay</th>\n",
       "    </tr>\n",
       "  </thead>\n",
       "  <tbody>\n",
       "    <tr>\n",
       "      <th>527753</th>\n",
       "      <td>0</td>\n",
       "      <td>2</td>\n",
       "      <td>It was good before but now there are too many ...</td>\n",
       "      <td>4</td>\n",
       "      <td>2016-03-14 00:00:00</td>\n",
       "      <td>2016</td>\n",
       "      <td>3</td>\n",
       "      <td>0</td>\n",
       "      <td>0</td>\n",
       "    </tr>\n",
       "    <tr>\n",
       "      <th>551995</th>\n",
       "      <td>0</td>\n",
       "      <td>5</td>\n",
       "      <td>Only wish u got more likes for free</td>\n",
       "      <td>4</td>\n",
       "      <td>2015-10-22 12:00:00</td>\n",
       "      <td>2015</td>\n",
       "      <td>10</td>\n",
       "      <td>12</td>\n",
       "      <td>3</td>\n",
       "    </tr>\n",
       "    <tr>\n",
       "      <th>549580</th>\n",
       "      <td>0</td>\n",
       "      <td>3</td>\n",
       "      <td>Fun app but crashes and won't allow to swipe o...</td>\n",
       "      <td>4</td>\n",
       "      <td>2015-11-09 18:00:00</td>\n",
       "      <td>2015</td>\n",
       "      <td>11</td>\n",
       "      <td>18</td>\n",
       "      <td>0</td>\n",
       "    </tr>\n",
       "  </tbody>\n",
       "</table>\n",
       "</div>"
      ],
      "text/plain": [
       "        thumb  star                                             review ver  \\\n",
       "527753      0     2  It was good before but now there are too many ...   4   \n",
       "551995      0     5                Only wish u got more likes for free   4   \n",
       "549580      0     3  Fun app but crashes and won't allow to swipe o...   4   \n",
       "\n",
       "                        at  atYear  atMonth  atHourInterval  atDay  \n",
       "527753 2016-03-14 00:00:00    2016        3               0      0  \n",
       "551995 2015-10-22 12:00:00    2015       10              12      3  \n",
       "549580 2015-11-09 18:00:00    2015       11              18      0  "
      ]
     },
     "execution_count": 81,
     "metadata": {},
     "output_type": "execute_result"
    }
   ],
   "source": [
    "data_processed.loc[:, 'ver'] = data_processed.ver.apply(\n",
    "  lambda q: q[:q.index('.')] if q.__contains__('.') else q\n",
    ")\n",
    "data_processed.sample(3)"
   ]
  },
  {
   "cell_type": "code",
   "execution_count": 106,
   "metadata": {},
   "outputs": [
    {
     "data": {
      "text/plain": [
       "[Text(0.5, 0, 'Year')]"
      ]
     },
     "execution_count": 106,
     "metadata": {},
     "output_type": "execute_result"
    },
    {
     "data": {
      "image/png": "[encoded data removed]",
      "text/plain": [
       "<Figure size 1200x300 with 2 Axes>"
      ]
     },
     "metadata": {},
     "output_type": "display_data"
    }
   ],
   "source": [
    "fig,ax=plt.subplots(1,2,figsize=(12,3),layout='tight',sharey=True)\n",
    "\n",
    "star_by_ver=sns.lineplot(data_processed, x='ver', y='star', n_boot=300,\n",
    "  ax=ax[0], **asthetic_constraint)\n",
    "\n",
    "\n",
    "star_by_year=sns.lineplot(data_processed, x=data_processed.atYear.astype('str'), y='star', n_boot=300,\n",
    "  ax=ax[1], **asthetic_constraint)\n",
    "\n",
    "star_by_ver.set(xlabel='App Version')\n",
    "star_by_year.set(xlabel='Year')"
   ]
  },
  {
   "cell_type": "code",
   "execution_count": 122,
   "metadata": {},
   "outputs": [
    {
     "data": {
      "text/html": [
       "<div>\n",
       "<style scoped>\n",
       "    .dataframe tbody tr th:only-of-type {\n",
       "        vertical-align: middle;\n",
       "    }\n",
       "\n",
       "    .dataframe tbody tr th {\n",
       "        vertical-align: top;\n",
       "    }\n",
       "\n",
       "    .dataframe thead th {\n",
       "        text-align: right;\n",
       "    }\n",
       "</style>\n",
       "<table border=\"1\" class=\"dataframe\">\n",
       "  <thead>\n",
       "    <tr style=\"text-align: right;\">\n",
       "      <th></th>\n",
       "      <th>thumb</th>\n",
       "      <th>star</th>\n",
       "      <th>review</th>\n",
       "      <th>ver</th>\n",
       "      <th>at</th>\n",
       "      <th>atYear</th>\n",
       "      <th>atMonth</th>\n",
       "      <th>atHourInterval</th>\n",
       "      <th>atDay</th>\n",
       "      <th>score</th>\n",
       "    </tr>\n",
       "  </thead>\n",
       "  <tbody>\n",
       "    <tr>\n",
       "      <th>318794</th>\n",
       "      <td>0</td>\n",
       "      <td>1</td>\n",
       "      <td>horrible</td>\n",
       "      <td>10</td>\n",
       "      <td>2019-05-14 00:00:00</td>\n",
       "      <td>2019</td>\n",
       "      <td>5</td>\n",
       "      <td>0</td>\n",
       "      <td>1</td>\n",
       "      <td>-1.456248</td>\n",
       "    </tr>\n",
       "    <tr>\n",
       "      <th>449106</th>\n",
       "      <td>0</td>\n",
       "      <td>5</td>\n",
       "      <td>Islam also7do Ishmael rapidly Sindhi symbiosis...</td>\n",
       "      <td>7</td>\n",
       "      <td>2017-07-19 03:00:00</td>\n",
       "      <td>2017</td>\n",
       "      <td>7</td>\n",
       "      <td>3</td>\n",
       "      <td>2</td>\n",
       "      <td>2.609002</td>\n",
       "    </tr>\n",
       "    <tr>\n",
       "      <th>571014</th>\n",
       "      <td>0</td>\n",
       "      <td>4</td>\n",
       "      <td>But takes time to load and operate</td>\n",
       "      <td>4</td>\n",
       "      <td>2015-06-14 09:00:00</td>\n",
       "      <td>2015</td>\n",
       "      <td>6</td>\n",
       "      <td>9</td>\n",
       "      <td>6</td>\n",
       "      <td>1.545396</td>\n",
       "    </tr>\n",
       "  </tbody>\n",
       "</table>\n",
       "</div>"
      ],
      "text/plain": [
       "        thumb  star                                             review ver  \\\n",
       "318794      0     1                                           horrible  10   \n",
       "449106      0     5  Islam also7do Ishmael rapidly Sindhi symbiosis...   7   \n",
       "571014      0     4                 But takes time to load and operate   4   \n",
       "\n",
       "                        at  atYear  atMonth  atHourInterval  atDay     score  \n",
       "318794 2019-05-14 00:00:00    2019        5               0      1 -1.456248  \n",
       "449106 2017-07-19 03:00:00    2017        7               3      2  2.609002  \n",
       "571014 2015-06-14 09:00:00    2015        6               9      6  1.545396  "
      ]
     },
     "execution_count": 122,
     "metadata": {},
     "output_type": "execute_result"
    }
   ],
   "source": [
    "data_processed=data_processed.assign(score=\\\n",
    "  yeojohnson((data_processed.thumb + 1) * (data_processed.star - 2.5))[0]\n",
    ")\n",
    "data_processed.sample(3)"
   ]
  },
  {
   "cell_type": "code",
   "execution_count": 128,
   "metadata": {},
   "outputs": [],
   "source": [
    "data_processed.reset_index(drop=True).to_feather('~/res/_gps-review-scrap.feather',\n",
    "  compression='zstd',\n",
    "  compression_level=9\n",
    ")"
   ]
  }
 ],
 "metadata": {
  "kernelspec": {
   "display_name": "origin",
   "language": "python",
   "name": "python3"
  },
  "language_info": {
   "codemirror_mode": {
    "name": "ipython",
    "version": 3
   },
   "file_extension": ".py",
   "mimetype": "text/x-python",
   "name": "python",
   "nbconvert_exporter": "python",
   "pygments_lexer": "ipython3",
   "version": "3.10.14"
  }
 },
 "nbformat": 4,
 "nbformat_minor": 2
}
