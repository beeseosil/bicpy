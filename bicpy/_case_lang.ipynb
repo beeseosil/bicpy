{
 "cells": [
  {
   "cell_type": "code",
   "execution_count": 103,
   "metadata": {},
   "outputs": [],
   "source": [
    "import os\n",
    "import kagglehub\n",
    "import pandas as pd\n",
    "import matplotlib.pyplot as plt\n",
    "import seaborn as sns\n"
   ]
  },
  {
   "cell_type": "code",
   "execution_count": 205,
   "metadata": {},
   "outputs": [],
   "source": [
    "sns.set_theme(style='whitegrid', font_scale=.7, palette='Set1', font='Monospace')\n",
    "\n",
    "asthetic_constraint=dict(\n",
    "  color=sns.color_palette('Set2')[-1],\n",
    "  alpha=.9\n",
    ")"
   ]
  },
  {
   "cell_type": "code",
   "execution_count": null,
   "metadata": {},
   "outputs": [],
   "source": [
    "path = kagglehub.dataset_download(\"shivkumarganesh/tinder-google-play-store-review\")\n",
    "\n",
    "os.chdir(path)\n",
    "\n",
    "data=pd.read_csv(\n",
    "  os.path.join(path, os.listdir()[0])\n",
    ")\n",
    "\n",
    "data.info(1)"
   ]
  },
  {
   "cell_type": "code",
   "execution_count": 12,
   "metadata": {},
   "outputs": [
    {
     "data": {
      "text/plain": [
       "True"
      ]
     },
     "execution_count": 12,
     "metadata": {},
     "output_type": "execute_result"
    }
   ],
   "source": [
    "data.index.size() == data.reviewId.nunique()"
   ]
  },
  {
   "cell_type": "code",
   "execution_count": 13,
   "metadata": {},
   "outputs": [],
   "source": [
    "data=data.iloc[:,[0,3,4,5,7,10]].copy()"
   ]
  },
  {
   "cell_type": "code",
   "execution_count": 14,
   "metadata": {},
   "outputs": [
    {
     "data": {
      "text/html": [
       "<div>\n",
       "<style scoped>\n",
       "    .dataframe tbody tr th:only-of-type {\n",
       "        vertical-align: middle;\n",
       "    }\n",
       "\n",
       "    .dataframe tbody tr th {\n",
       "        vertical-align: top;\n",
       "    }\n",
       "\n",
       "    .dataframe thead th {\n",
       "        text-align: right;\n",
       "    }\n",
       "</style>\n",
       "<table border=\"1\" class=\"dataframe\">\n",
       "  <thead>\n",
       "    <tr style=\"text-align: right;\">\n",
       "      <th></th>\n",
       "      <th>reviewId</th>\n",
       "      <th>content</th>\n",
       "      <th>score</th>\n",
       "      <th>thumbsUpCount</th>\n",
       "      <th>at</th>\n",
       "      <th>appVersion</th>\n",
       "    </tr>\n",
       "  </thead>\n",
       "  <tbody>\n",
       "    <tr>\n",
       "      <th>297013</th>\n",
       "      <td>9cd366e1-9a55-46ad-a327-e17d467b21ec</td>\n",
       "      <td>great</td>\n",
       "      <td>5</td>\n",
       "      <td>0</td>\n",
       "      <td>2019-08-11 17:46:16</td>\n",
       "      <td>10.20.0</td>\n",
       "    </tr>\n",
       "    <tr>\n",
       "      <th>451896</th>\n",
       "      <td>36211419-842f-4138-b5d7-6dccf3bbe94f</td>\n",
       "      <td>Great to know what beauty is around you.</td>\n",
       "      <td>5</td>\n",
       "      <td>0</td>\n",
       "      <td>2017-07-02 21:42:14</td>\n",
       "      <td>7.3.0</td>\n",
       "    </tr>\n",
       "    <tr>\n",
       "      <th>261830</th>\n",
       "      <td>2e6d7ece-e47d-4011-a21c-ee1891736195</td>\n",
       "      <td>I paid 20 dollars and had plus for 3 days then...</td>\n",
       "      <td>1</td>\n",
       "      <td>1</td>\n",
       "      <td>2020-02-12 04:06:16</td>\n",
       "      <td>11.7.0</td>\n",
       "    </tr>\n",
       "    <tr>\n",
       "      <th>387198</th>\n",
       "      <td>c1f45049-b7db-445d-bd86-a0774646fb67</td>\n",
       "      <td>Im not getting luck. My sister used this app a...</td>\n",
       "      <td>4</td>\n",
       "      <td>0</td>\n",
       "      <td>2018-07-26 02:38:24</td>\n",
       "      <td>9.0.0</td>\n",
       "    </tr>\n",
       "    <tr>\n",
       "      <th>480985</th>\n",
       "      <td>1c2771ce-e224-4d95-9ba0-e719844d997f</td>\n",
       "      <td>Good</td>\n",
       "      <td>5</td>\n",
       "      <td>0</td>\n",
       "      <td>2017-01-01 14:51:49</td>\n",
       "      <td>6.7.0</td>\n",
       "    </tr>\n",
       "  </tbody>\n",
       "</table>\n",
       "</div>"
      ],
      "text/plain": [
       "                                    reviewId  \\\n",
       "297013  9cd366e1-9a55-46ad-a327-e17d467b21ec   \n",
       "451896  36211419-842f-4138-b5d7-6dccf3bbe94f   \n",
       "261830  2e6d7ece-e47d-4011-a21c-ee1891736195   \n",
       "387198  c1f45049-b7db-445d-bd86-a0774646fb67   \n",
       "480985  1c2771ce-e224-4d95-9ba0-e719844d997f   \n",
       "\n",
       "                                                  content  score  \\\n",
       "297013                                              great      5   \n",
       "451896           Great to know what beauty is around you.      5   \n",
       "261830  I paid 20 dollars and had plus for 3 days then...      1   \n",
       "387198  Im not getting luck. My sister used this app a...      4   \n",
       "480985                                               Good      5   \n",
       "\n",
       "        thumbsUpCount                   at appVersion  \n",
       "297013              0  2019-08-11 17:46:16    10.20.0  \n",
       "451896              0  2017-07-02 21:42:14      7.3.0  \n",
       "261830              1  2020-02-12 04:06:16     11.7.0  \n",
       "387198              0  2018-07-26 02:38:24      9.0.0  \n",
       "480985              0  2017-01-01 14:51:49      6.7.0  "
      ]
     },
     "execution_count": 14,
     "metadata": {},
     "output_type": "execute_result"
    }
   ],
   "source": [
    "data.sample(5)"
   ]
  },
  {
   "cell_type": "code",
   "execution_count": 15,
   "metadata": {},
   "outputs": [
    {
     "data": {
      "text/html": [
       "<div>\n",
       "<style scoped>\n",
       "    .dataframe tbody tr th:only-of-type {\n",
       "        vertical-align: middle;\n",
       "    }\n",
       "\n",
       "    .dataframe tbody tr th {\n",
       "        vertical-align: top;\n",
       "    }\n",
       "\n",
       "    .dataframe thead th {\n",
       "        text-align: right;\n",
       "    }\n",
       "</style>\n",
       "<table border=\"1\" class=\"dataframe\">\n",
       "  <thead>\n",
       "    <tr style=\"text-align: right;\">\n",
       "      <th></th>\n",
       "      <th>content</th>\n",
       "      <th>score</th>\n",
       "      <th>thumbsUpCount</th>\n",
       "      <th>at</th>\n",
       "      <th>appVersion</th>\n",
       "    </tr>\n",
       "  </thead>\n",
       "  <tbody>\n",
       "    <tr>\n",
       "      <th>87712</th>\n",
       "      <td>Love this app🥰🥰</td>\n",
       "      <td>5</td>\n",
       "      <td>0</td>\n",
       "      <td>2023-02-01 22:18:37</td>\n",
       "      <td>14.1.0</td>\n",
       "    </tr>\n",
       "    <tr>\n",
       "      <th>633593</th>\n",
       "      <td>Great app</td>\n",
       "      <td>5</td>\n",
       "      <td>0</td>\n",
       "      <td>2013-12-26 07:26:25</td>\n",
       "      <td>2.1.1</td>\n",
       "    </tr>\n",
       "    <tr>\n",
       "      <th>321456</th>\n",
       "      <td>Please help! My account got reset and I can't ...</td>\n",
       "      <td>1</td>\n",
       "      <td>0</td>\n",
       "      <td>2019-05-03 16:48:46</td>\n",
       "      <td>6.9.2</td>\n",
       "    </tr>\n",
       "  </tbody>\n",
       "</table>\n",
       "</div>"
      ],
      "text/plain": [
       "                                                  content  score  \\\n",
       "87712                                     Love this app🥰🥰      5   \n",
       "633593                                          Great app      5   \n",
       "321456  Please help! My account got reset and I can't ...      1   \n",
       "\n",
       "        thumbsUpCount                   at appVersion  \n",
       "87712               0  2023-02-01 22:18:37     14.1.0  \n",
       "633593              0  2013-12-26 07:26:25      2.1.1  \n",
       "321456              0  2019-05-03 16:48:46      6.9.2  "
      ]
     },
     "execution_count": 15,
     "metadata": {},
     "output_type": "execute_result"
    }
   ],
   "source": [
    "data=data.drop('reviewId', axis=1)\n",
    "data.sample(3)"
   ]
  },
  {
   "cell_type": "code",
   "execution_count": 32,
   "metadata": {},
   "outputs": [
    {
     "data": {
      "text/html": [
       "<div>\n",
       "<style scoped>\n",
       "    .dataframe tbody tr th:only-of-type {\n",
       "        vertical-align: middle;\n",
       "    }\n",
       "\n",
       "    .dataframe tbody tr th {\n",
       "        vertical-align: top;\n",
       "    }\n",
       "\n",
       "    .dataframe thead th {\n",
       "        text-align: right;\n",
       "    }\n",
       "</style>\n",
       "<table border=\"1\" class=\"dataframe\">\n",
       "  <thead>\n",
       "    <tr style=\"text-align: right;\">\n",
       "      <th></th>\n",
       "      <th>thumb</th>\n",
       "      <th>star</th>\n",
       "      <th>review</th>\n",
       "      <th>ver</th>\n",
       "    </tr>\n",
       "  </thead>\n",
       "  <tbody>\n",
       "    <tr>\n",
       "      <th>449044</th>\n",
       "      <td>0</td>\n",
       "      <td>5</td>\n",
       "      <td>Amazing app. Help to find whatever you are her...</td>\n",
       "      <td>7.3.0</td>\n",
       "    </tr>\n",
       "    <tr>\n",
       "      <th>178842</th>\n",
       "      <td>60</td>\n",
       "      <td>1</td>\n",
       "      <td>Horrible experience...this is happening again ...</td>\n",
       "      <td>12.8.0</td>\n",
       "    </tr>\n",
       "    <tr>\n",
       "      <th>191326</th>\n",
       "      <td>0</td>\n",
       "      <td>3</td>\n",
       "      <td>Keep crashing all the time due to WebView upda...</td>\n",
       "      <td>NaN</td>\n",
       "    </tr>\n",
       "  </tbody>\n",
       "</table>\n",
       "</div>"
      ],
      "text/plain": [
       "        thumb  star                                             review     ver\n",
       "449044      0     5  Amazing app. Help to find whatever you are her...   7.3.0\n",
       "178842     60     1  Horrible experience...this is happening again ...  12.8.0\n",
       "191326      0     3  Keep crashing all the time due to WebView upda...     NaN"
      ]
     },
     "execution_count": 32,
     "metadata": {},
     "output_type": "execute_result"
    }
   ],
   "source": [
    "data_processed_some=pd.DataFrame(dict(\n",
    "  thumb=data.thumbsUpCount,\n",
    "  star=data.score,\n",
    "  review=data.content,\n",
    "  ver=data.appVersion\n",
    "))\n",
    "data_processed_some.sample(3)"
   ]
  },
  {
   "cell_type": "code",
   "execution_count": 30,
   "metadata": {},
   "outputs": [
    {
     "data": {
      "text/html": [
       "<div>\n",
       "<style scoped>\n",
       "    .dataframe tbody tr th:only-of-type {\n",
       "        vertical-align: middle;\n",
       "    }\n",
       "\n",
       "    .dataframe tbody tr th {\n",
       "        vertical-align: top;\n",
       "    }\n",
       "\n",
       "    .dataframe thead th {\n",
       "        text-align: right;\n",
       "    }\n",
       "</style>\n",
       "<table border=\"1\" class=\"dataframe\">\n",
       "  <thead>\n",
       "    <tr style=\"text-align: right;\">\n",
       "      <th></th>\n",
       "      <th>at</th>\n",
       "    </tr>\n",
       "  </thead>\n",
       "  <tbody>\n",
       "    <tr>\n",
       "      <th>279289</th>\n",
       "      <td>2019-11-03 06:00:00</td>\n",
       "    </tr>\n",
       "    <tr>\n",
       "      <th>169965</th>\n",
       "      <td>2021-07-30 12:00:00</td>\n",
       "    </tr>\n",
       "    <tr>\n",
       "      <th>241141</th>\n",
       "      <td>2020-06-03 09:00:00</td>\n",
       "    </tr>\n",
       "  </tbody>\n",
       "</table>\n",
       "</div>"
      ],
      "text/plain": [
       "                        at\n",
       "279289 2019-11-03 06:00:00\n",
       "169965 2021-07-30 12:00:00\n",
       "241141 2020-06-03 09:00:00"
      ]
     },
     "execution_count": 30,
     "metadata": {},
     "output_type": "execute_result"
    }
   ],
   "source": [
    "_at=pd.to_datetime(data['at']).round('3h')\n",
    "_at.to_frame().sample(3)"
   ]
  },
  {
   "cell_type": "code",
   "execution_count": 31,
   "metadata": {},
   "outputs": [
    {
     "data": {
      "text/html": [
       "<div>\n",
       "<style scoped>\n",
       "    .dataframe tbody tr th:only-of-type {\n",
       "        vertical-align: middle;\n",
       "    }\n",
       "\n",
       "    .dataframe tbody tr th {\n",
       "        vertical-align: top;\n",
       "    }\n",
       "\n",
       "    .dataframe thead th {\n",
       "        text-align: right;\n",
       "    }\n",
       "</style>\n",
       "<table border=\"1\" class=\"dataframe\">\n",
       "  <thead>\n",
       "    <tr style=\"text-align: right;\">\n",
       "      <th></th>\n",
       "      <th>at</th>\n",
       "      <th>atYear</th>\n",
       "      <th>atMonth</th>\n",
       "      <th>atHourInterval</th>\n",
       "      <th>atDay</th>\n",
       "    </tr>\n",
       "  </thead>\n",
       "  <tbody>\n",
       "    <tr>\n",
       "      <th>488700</th>\n",
       "      <td>2016-11-15 00:00:00</td>\n",
       "      <td>2016</td>\n",
       "      <td>11</td>\n",
       "      <td>0</td>\n",
       "      <td>1</td>\n",
       "    </tr>\n",
       "    <tr>\n",
       "      <th>66342</th>\n",
       "      <td>2023-07-09 06:00:00</td>\n",
       "      <td>2023</td>\n",
       "      <td>7</td>\n",
       "      <td>6</td>\n",
       "      <td>6</td>\n",
       "    </tr>\n",
       "    <tr>\n",
       "      <th>395528</th>\n",
       "      <td>2018-05-29 18:00:00</td>\n",
       "      <td>2018</td>\n",
       "      <td>5</td>\n",
       "      <td>18</td>\n",
       "      <td>1</td>\n",
       "    </tr>\n",
       "  </tbody>\n",
       "</table>\n",
       "</div>"
      ],
      "text/plain": [
       "                        at  atYear  atMonth  atHourInterval  atDay\n",
       "488700 2016-11-15 00:00:00    2016       11               0      1\n",
       "66342  2023-07-09 06:00:00    2023        7               6      6\n",
       "395528 2018-05-29 18:00:00    2018        5              18      1"
      ]
     },
     "execution_count": 31,
     "metadata": {},
     "output_type": "execute_result"
    }
   ],
   "source": [
    "data_dt=pd.DataFrame(dict(\n",
    "  at=_at,\n",
    "  atYear=_at.dt.year,\n",
    "  atMonth=_at.dt.month,\n",
    "  atHourInterval=_at.dt.hour,\n",
    "  atDay=_at.dt.dayofweek\n",
    "))\n",
    "data_dt.sample(3)"
   ]
  },
  {
   "cell_type": "code",
   "execution_count": 165,
   "metadata": {},
   "outputs": [
    {
     "data": {
      "text/html": [
       "<div>\n",
       "<style scoped>\n",
       "    .dataframe tbody tr th:only-of-type {\n",
       "        vertical-align: middle;\n",
       "    }\n",
       "\n",
       "    .dataframe tbody tr th {\n",
       "        vertical-align: top;\n",
       "    }\n",
       "\n",
       "    .dataframe thead th {\n",
       "        text-align: right;\n",
       "    }\n",
       "</style>\n",
       "<table border=\"1\" class=\"dataframe\">\n",
       "  <thead>\n",
       "    <tr style=\"text-align: right;\">\n",
       "      <th></th>\n",
       "      <th>thumb</th>\n",
       "      <th>star</th>\n",
       "      <th>review</th>\n",
       "      <th>ver</th>\n",
       "      <th>at</th>\n",
       "      <th>atYear</th>\n",
       "      <th>atMonth</th>\n",
       "      <th>atHourInterval</th>\n",
       "      <th>atDay</th>\n",
       "    </tr>\n",
       "  </thead>\n",
       "  <tbody>\n",
       "    <tr>\n",
       "      <th>545617</th>\n",
       "      <td>0</td>\n",
       "      <td>5</td>\n",
       "      <td>Superb appp. I love it</td>\n",
       "      <td>NaN</td>\n",
       "      <td>2015-11-26 15:00:00</td>\n",
       "      <td>2015</td>\n",
       "      <td>11</td>\n",
       "      <td>15</td>\n",
       "      <td>3</td>\n",
       "    </tr>\n",
       "    <tr>\n",
       "      <th>267449</th>\n",
       "      <td>0</td>\n",
       "      <td>1</td>\n",
       "      <td>Banned for no reason. All i do is swipe and i ...</td>\n",
       "      <td>10.12.0</td>\n",
       "      <td>2020-01-12 15:00:00</td>\n",
       "      <td>2020</td>\n",
       "      <td>1</td>\n",
       "      <td>15</td>\n",
       "      <td>6</td>\n",
       "    </tr>\n",
       "    <tr>\n",
       "      <th>548168</th>\n",
       "      <td>0</td>\n",
       "      <td>1</td>\n",
       "      <td>Getting bored of the consistent login failed m...</td>\n",
       "      <td>4.4.2</td>\n",
       "      <td>2015-11-16 12:00:00</td>\n",
       "      <td>2015</td>\n",
       "      <td>11</td>\n",
       "      <td>12</td>\n",
       "      <td>0</td>\n",
       "    </tr>\n",
       "  </tbody>\n",
       "</table>\n",
       "</div>"
      ],
      "text/plain": [
       "        thumb  star                                             review  \\\n",
       "545617      0     5                             Superb appp. I love it   \n",
       "267449      0     1  Banned for no reason. All i do is swipe and i ...   \n",
       "548168      0     1  Getting bored of the consistent login failed m...   \n",
       "\n",
       "            ver                  at  atYear  atMonth  atHourInterval  atDay  \n",
       "545617      NaN 2015-11-26 15:00:00    2015       11              15      3  \n",
       "267449  10.12.0 2020-01-12 15:00:00    2020        1              15      6  \n",
       "548168    4.4.2 2015-11-16 12:00:00    2015       11              12      0  "
      ]
     },
     "execution_count": 165,
     "metadata": {},
     "output_type": "execute_result"
    }
   ],
   "source": [
    "data_processed=pd.concat([\n",
    "  data_processed_some,\n",
    "  data_dt\n",
    "],axis=1).dropna(subset='review').sort_values('atYear')\n",
    "data_processed.sample(3)"
   ]
  },
  {
   "cell_type": "code",
   "execution_count": 157,
   "metadata": {},
   "outputs": [
    {
     "data": {
      "text/plain": [
       "thumb                  0\n",
       "star                   0\n",
       "review                 0\n",
       "ver               131299\n",
       "at                     0\n",
       "atYear                 0\n",
       "atMonth                0\n",
       "atHourInterval         0\n",
       "atDay                  0\n",
       "dtype: int64"
      ]
     },
     "execution_count": 157,
     "metadata": {},
     "output_type": "execute_result"
    }
   ],
   "source": [
    "data_processed.isna().sum()"
   ]
  },
  {
   "cell_type": "code",
   "execution_count": 185,
   "metadata": {},
   "outputs": [
    {
     "data": {
      "text/plain": [
       "at\n",
       "2025-01-10 00:00:00    NaN\n",
       "2025-01-09 21:00:00    NaN\n",
       "2025-01-09 21:00:00    NaN\n",
       "2025-01-09 21:00:00    NaN\n",
       "2025-01-09 21:00:00    NaN\n",
       "                      ... \n",
       "2013-07-24 09:00:00    NaN\n",
       "2013-07-23 21:00:00    NaN\n",
       "2013-07-23 00:00:00    NaN\n",
       "2013-07-17 12:00:00    NaN\n",
       "2013-07-16 21:00:00    NaN\n",
       "Name: ver, Length: 131299, dtype: object"
      ]
     },
     "execution_count": 185,
     "metadata": {},
     "output_type": "execute_result"
    }
   ],
   "source": [
    "_ver_interp=pd.DataFrame(\n",
    "  dict(\n",
    "    ind=data_processed.index,\n",
    "    ver=data_processed.ver.to_list()\n",
    "  ),\n",
    "  index=data_processed['at']\n",
    ")\n",
    "_ver_interp.ver[data_processed.ver.isna().to_list()]"
   ]
  },
  {
   "cell_type": "code",
   "execution_count": 193,
   "metadata": {},
   "outputs": [
    {
     "data": {
      "text/html": [
       "<div>\n",
       "<style scoped>\n",
       "    .dataframe tbody tr th:only-of-type {\n",
       "        vertical-align: middle;\n",
       "    }\n",
       "\n",
       "    .dataframe tbody tr th {\n",
       "        vertical-align: top;\n",
       "    }\n",
       "\n",
       "    .dataframe thead th {\n",
       "        text-align: right;\n",
       "    }\n",
       "</style>\n",
       "<table border=\"1\" class=\"dataframe\">\n",
       "  <thead>\n",
       "    <tr style=\"text-align: right;\">\n",
       "      <th></th>\n",
       "      <th>ind</th>\n",
       "      <th>ver</th>\n",
       "    </tr>\n",
       "    <tr>\n",
       "      <th>at</th>\n",
       "      <th></th>\n",
       "      <th></th>\n",
       "    </tr>\n",
       "  </thead>\n",
       "  <tbody>\n",
       "    <tr>\n",
       "      <th>2025-01-10 00:00:00</th>\n",
       "      <td>10</td>\n",
       "      <td>15.23.0</td>\n",
       "    </tr>\n",
       "    <tr>\n",
       "      <th>2025-01-09 21:00:00</th>\n",
       "      <td>24</td>\n",
       "      <td>15.23.0</td>\n",
       "    </tr>\n",
       "    <tr>\n",
       "      <th>2025-01-09 21:00:00</th>\n",
       "      <td>17</td>\n",
       "      <td>15.23.0</td>\n",
       "    </tr>\n",
       "    <tr>\n",
       "      <th>2025-01-09 21:00:00</th>\n",
       "      <td>18</td>\n",
       "      <td>15.23.0</td>\n",
       "    </tr>\n",
       "    <tr>\n",
       "      <th>2025-01-09 21:00:00</th>\n",
       "      <td>13</td>\n",
       "      <td>15.23.0</td>\n",
       "    </tr>\n",
       "    <tr>\n",
       "      <th>...</th>\n",
       "      <td>...</td>\n",
       "      <td>...</td>\n",
       "    </tr>\n",
       "    <tr>\n",
       "      <th>2013-07-24 09:00:00</th>\n",
       "      <td>640972</td>\n",
       "      <td>1.0.7</td>\n",
       "    </tr>\n",
       "    <tr>\n",
       "      <th>2013-07-23 21:00:00</th>\n",
       "      <td>640980</td>\n",
       "      <td>1.0.7</td>\n",
       "    </tr>\n",
       "    <tr>\n",
       "      <th>2013-07-23 00:00:00</th>\n",
       "      <td>640993</td>\n",
       "      <td>1.0.6</td>\n",
       "    </tr>\n",
       "    <tr>\n",
       "      <th>2013-07-17 12:00:00</th>\n",
       "      <td>641171</td>\n",
       "      <td>1.0.3</td>\n",
       "    </tr>\n",
       "    <tr>\n",
       "      <th>2013-07-16 21:00:00</th>\n",
       "      <td>641244</td>\n",
       "      <td>1.0.2</td>\n",
       "    </tr>\n",
       "  </tbody>\n",
       "</table>\n",
       "<p>131299 rows × 2 columns</p>\n",
       "</div>"
      ],
      "text/plain": [
       "                        ind      ver\n",
       "at                                  \n",
       "2025-01-10 00:00:00      10  15.23.0\n",
       "2025-01-09 21:00:00      24  15.23.0\n",
       "2025-01-09 21:00:00      17  15.23.0\n",
       "2025-01-09 21:00:00      18  15.23.0\n",
       "2025-01-09 21:00:00      13  15.23.0\n",
       "...                     ...      ...\n",
       "2013-07-24 09:00:00  640972    1.0.7\n",
       "2013-07-23 21:00:00  640980    1.0.7\n",
       "2013-07-23 00:00:00  640993    1.0.6\n",
       "2013-07-17 12:00:00  641171    1.0.3\n",
       "2013-07-16 21:00:00  641244    1.0.2\n",
       "\n",
       "[131299 rows x 2 columns]"
      ]
     },
     "execution_count": 193,
     "metadata": {},
     "output_type": "execute_result"
    }
   ],
   "source": [
    "_ver_interp.interpolate('pad')[data_processed.ver.isna().to_list()]"
   ]
  },
  {
   "cell_type": "code",
   "execution_count": 194,
   "metadata": {},
   "outputs": [
    {
     "data": {
      "text/plain": [
       "0"
      ]
     },
     "execution_count": 194,
     "metadata": {},
     "output_type": "execute_result"
    }
   ],
   "source": [
    "_ver_interp=_ver_interp.interpolate('pad')\n",
    "data_processed.loc[:, 'ver']=_ver_interp.ver.to_list()\n",
    "data_processed.ver.isna().sum()"
   ]
  },
  {
   "cell_type": "code",
   "execution_count": 195,
   "metadata": {},
   "outputs": [
    {
     "data": {
      "image/png": "[encoded data removed]",
      "text/plain": [
       "<Figure size 600x600 with 1 Axes>"
      ]
     },
     "metadata": {},
     "output_type": "display_data"
    }
   ],
   "source": [
    "plt.subplots(figsize=(6,6))\n",
    "sns.histplot(data_processed, x=data_processed.atYear.astype('str'), y=data_processed.atMonth.astype('str'), stat='count', **asthetic_constraint)\n",
    "sns.despine(left=True,right=True,top=True,bottom=True)"
   ]
  },
  {
   "cell_type": "code",
   "execution_count": 111,
   "metadata": {},
   "outputs": [
    {
     "data": {
      "text/plain": [
       "<Axes: xlabel='atYear', ylabel='star'>"
      ]
     },
     "execution_count": 111,
     "metadata": {},
     "output_type": "execute_result"
    },
    {
     "data": {
      "image/png": "[encoded data removed]",
      "text/plain": [
       "<Figure size 1000x300 with 1 Axes>"
      ]
     },
     "metadata": {},
     "output_type": "display_data"
    }
   ],
   "source": [
    "plt.subplots(figsize=(10,3))\n",
    "sns.lineplot(data_processed, x=data_processed.atYear.astype('str'), y='star', errorbar='se', n_boot=30*10**2, markers=True, **asthetic_constraint)"
   ]
  },
  {
   "cell_type": "code",
   "execution_count": 145,
   "metadata": {},
   "outputs": [
    {
     "data": {
      "text/plain": [
       "<Axes: xlabel='count', ylabel='atYear'>"
      ]
     },
     "execution_count": 145,
     "metadata": {},
     "output_type": "execute_result"
    },
    {
     "data": {
      "image/png": "[encoded data removed]",
      "text/plain": [
       "<Figure size 1000x300 with 1 Axes>"
      ]
     },
     "metadata": {},
     "output_type": "display_data"
    }
   ],
   "source": [
    "plt.subplots(figsize=(10,3))\n",
    "sns.countplot(data_processed, y='atYear', hue='star', dodge=True, width=1.5, palette='Set2')"
   ]
  },
  {
   "cell_type": "code",
   "execution_count": 206,
   "metadata": {},
   "outputs": [
    {
     "data": {
      "text/plain": [
       "<Axes: xlabel='ver', ylabel='star'>"
      ]
     },
     "execution_count": 206,
     "metadata": {},
     "output_type": "execute_result"
    },
    {
     "data": {
      "image/png": "[encoded data removed]",
      "text/plain": [
       "<Figure size 1000x300 with 1 Axes>"
      ]
     },
     "metadata": {},
     "output_type": "display_data"
    }
   ],
   "source": [
    "plt.subplots(figsize=(10,3))\n",
    "sns.lineplot(data_processed.groupby('ver').star.mean())"
   ]
  },
  {
   "cell_type": "code",
   "execution_count": 212,
   "metadata": {},
   "outputs": [
    {
     "data": {
      "text/plain": [
       "'15.21.1'"
      ]
     },
     "execution_count": 212,
     "metadata": {},
     "output_type": "execute_result"
    }
   ],
   "source": [
    "data_processed.ver.to_list()[0]"
   ]
  },
  {
   "cell_type": "code",
   "execution_count": 213,
   "metadata": {},
   "outputs": [],
   "source": [
    "data_processed.loc[:, 'ver'] = data_processed.ver.apply(\n",
    "  lambda q: q[:q.index('.')]\n",
    ")"
   ]
  },
  {
   "cell_type": "code",
   "execution_count": 216,
   "metadata": {},
   "outputs": [
    {
     "data": {
      "text/plain": [
       "array(['15', '13', '12', '11', '8', '14', '4', '6', '10', '9', '3', '1',\n",
       "       '5', '2', '7'], dtype=object)"
      ]
     },
     "execution_count": 216,
     "metadata": {},
     "output_type": "execute_result"
    }
   ],
   "source": [
    "data_processed.ver.unique()"
   ]
  }
 ],
 "metadata": {
  "kernelspec": {
   "display_name": "origin",
   "language": "python",
   "name": "python3"
  },
  "language_info": {
   "codemirror_mode": {
    "name": "ipython",
    "version": 3
   },
   "file_extension": ".py",
   "mimetype": "text/x-python",
   "name": "python",
   "nbconvert_exporter": "python",
   "pygments_lexer": "ipython3",
   "version": "3.10.14"
  }
 },
 "nbformat": 4,
 "nbformat_minor": 2
}
